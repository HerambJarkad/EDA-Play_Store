{
  "nbformat": 4,
  "nbformat_minor": 0,
  "metadata": {
    "colab": {
      "provenance": [],
      "authorship_tag": "ABX9TyMZ9zsijgaxwPsXaRvJT8/M",
      "include_colab_link": true
    },
    "kernelspec": {
      "name": "python3",
      "display_name": "Python 3"
    },
    "language_info": {
      "name": "python"
    }
  },
  "cells": [
    {
      "cell_type": "markdown",
      "metadata": {
        "id": "view-in-github",
        "colab_type": "text"
      },
      "source": [
        "<a href=\"https://colab.research.google.com/github/HerambJarkad/EDA-Play_Store/blob/main/EDA_PlayStore.ipynb\" target=\"_parent\"><img src=\"https://colab.research.google.com/assets/colab-badge.svg\" alt=\"Open In Colab\"/></a>"
      ]
    },
    {
      "cell_type": "markdown",
      "source": [
        "# **Project Name**    - **Exploratory Data Analysis of Google Play Store App Reviews**\n"
      ],
      "metadata": {
        "id": "EnaPZ5vpQARg"
      }
    },
    {
      "cell_type": "markdown",
      "source": [
        "##### **Project Type**    - EDA/Regression/Classification/Unsupervised\n",
        "\n",
        "---\n",
        "\n",
        "\n",
        "##### **Contribution**    - Individual\n",
        "##### **Name-** Heramb Jarkad"
      ],
      "metadata": {
        "id": "dJGqZ5dEQU7M"
      }
    },
    {
      "cell_type": "markdown",
      "source": [
        "# **Project Summary -**\n",
        "\n",
        "\n"
      ],
      "metadata": {
        "id": "twfhZDoTQ7ut"
      }
    },
    {
      "cell_type": "markdown",
      "source": [
        "Exploratory Data Analysis (EDA) is a crucial step in any data analysis or data science project. The aim of EDA is to understand the data better, uncover patterns and anomalies, and develop hypotheses based on the data. The EDA process involves several steps: defining the problem statement, generating hypotheses, conducting univariate, bivariate, and multivariate analyses, cleaning the data, and testing hypotheses. The purpose of EDA is to summarize the main characteristics of the data and make it more attractive and appealing through data visualization methods.\n",
        "\n",
        "The Google Play Store is a platform for mobile apps. With the ease of app creation and potential profitability, a large number of apps are being developed and made available on the platform. This analysis aims to provide a comprehensive understanding of the Android app market by examining the characteristics of over 10,000 apps in various categories. The insights gained from the data analysis will be used to identify opportunities for growth and improvement of the app market."
      ],
      "metadata": {
        "id": "A6TtiikWQ1HD"
      }
    },
    {
      "cell_type": "markdown",
      "source": [
        "# **GitHub Link -**\n",
        "https://github.com/HerambJarkad/EDA-Play_Store"
      ],
      "metadata": {
        "id": "uWwCIOj3WcuT"
      }
    },
    {
      "cell_type": "code",
      "source": [],
      "metadata": {
        "id": "gsj6p30xXgBB"
      },
      "execution_count": null,
      "outputs": []
    }
  ]
}