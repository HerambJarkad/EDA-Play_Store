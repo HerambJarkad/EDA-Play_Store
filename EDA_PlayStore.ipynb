{
  "cells": [
    {
      "cell_type": "markdown",
      "metadata": {
        "colab_type": "text",
        "id": "view-in-github"
      },
      "source": [
        "<a href=\"https://colab.research.google.com/github/HerambJarkad/EDA-Play_Store/blob/main/EDA_PlayStore.ipynb\" target=\"_parent\"><img src=\"https://colab.research.google.com/assets/colab-badge.svg\" alt=\"Open In Colab\"/></a>"
      ]
    },
    {
      "cell_type": "markdown",
      "metadata": {
        "id": "EnaPZ5vpQARg"
      },
      "source": [
        "# **Project Name**    - **Exploratory Data Analysis of Google Play Store App Reviews**\n"
      ]
    },
    {
      "cell_type": "markdown",
      "metadata": {
        "id": "dJGqZ5dEQU7M"
      },
      "source": [
        "##### **Project Type**    - EDA/Regression/Classification/Unsupervised\n",
        "\n",
        "---\n",
        "\n",
        "\n",
        "##### **Contribution**    - Individual\n",
        "##### **Name-** Heramb Jarkad"
      ]
    },
    {
      "cell_type": "markdown",
      "metadata": {
        "id": "twfhZDoTQ7ut"
      },
      "source": [
        "# **Project Summary -**\n",
        "\n",
        "\n"
      ]
    },
    {
      "cell_type": "markdown",
      "metadata": {
        "id": "A6TtiikWQ1HD"
      },
      "source": [
        "Exploratory Data Analysis (EDA) is a crucial step in any data analysis or data science project. The aim of EDA is to understand the data better, uncover patterns and anomalies, and develop hypotheses based on the data. The EDA process involves several steps: defining the problem statement, generating hypotheses, conducting univariate, bivariate, and multivariate analyses, cleaning the data, and testing hypotheses. The purpose of EDA is to summarize the main characteristics of the data and make it more attractive and appealing through data visualization methods.\n",
        "\n",
        "The Google Play Store is a platform for mobile apps. With the ease of app creation and potential profitability, a large number of apps are being developed and made available on the platform. This analysis aims to provide a comprehensive understanding of the Android app market by examining the characteristics of over 10,000 apps in various categories. The insights gained from the data analysis will be used to identify opportunities for growth and improvement of the app market."
      ]
    },
    {
      "cell_type": "markdown",
      "metadata": {
        "id": "uWwCIOj3WcuT"
      },
      "source": [
        "# **GitHub Link -**\n",
        "https://github.com/HerambJarkad/EDA-Play_Store"
      ]
    },
    {
      "cell_type": "markdown",
      "metadata": {},
      "source": [
        "# **Problem Statement**"
      ]
    },
    {
      "cell_type": "markdown",
      "metadata": {},
      "source": [
        "1. How significant is the app rating in determining its popularity?\n",
        "2. How does the app size impact its popularity?\n",
        "3. What are the leading app categories on the Play Store?\n",
        "4. What is the dominant app pricing model (paid or free)?\n",
        "5. Which app category has the highest number of downloads?\n",
        "6. How does the app's content rating impact its popularity?\n",
        "7. What impact does the latest update have on the app rating?\n",
        "8. How does the app count vary by genre?\n",
        "9. Is there a correlation between app category and price?\n",
        "10. How does the app's content rating impact its popularity?\n",
        "11. Is there a correlation between app ratings and installs?\n",
        "12. Is there a correlation between app ratings, price and reviews?\n",
        "13. What is the proportion of positive, negative, and neutral reviews?\n",
        "14. Is there a proportional relationship between subjectivity and polarity in app reviews?\n",
        "15. How does the sentiment polarity of reviews differ between paid and free apps?"
      ]
    },
    {
      "cell_type": "code",
      "execution_count": null,
      "metadata": {
        "id": "gsj6p30xXgBB"
      },
      "outputs": [],
      "source": []
    }
  ],
  "metadata": {
    "colab": {
      "authorship_tag": "ABX9TyMZ9zsijgaxwPsXaRvJT8/M",
      "include_colab_link": true,
      "provenance": []
    },
    "kernelspec": {
      "display_name": "Python 3",
      "name": "python3"
    },
    "language_info": {
      "name": "python"
    }
  },
  "nbformat": 4,
  "nbformat_minor": 0
}
